{
 "cells": [
  {
   "cell_type": "code",
   "execution_count": null,
   "id": "a9c4c32c",
   "metadata": {},
   "outputs": [],
   "source": [
    "import kagglehub\n",
    "import glob\n",
    "\n",
    "import pandas as pd"
   ]
  },
  {
   "cell_type": "code",
   "execution_count": null,
   "id": "517c33f1",
   "metadata": {},
   "outputs": [],
   "source": [
    "# Download latest version of the dataset\n",
    "path = kagglehub.dataset_download(\"prasad22/healthcare-dataset\")\n",
    "\n",
    "print(\"Path to dataset files:\", path)"
   ]
  },
  {
   "cell_type": "code",
   "execution_count": null,
   "id": "8fd797e9",
   "metadata": {},
   "outputs": [],
   "source": [
    "csv_files = glob.glob(f\"{path}/*.csv\")\n",
    "if csv_files:\n",
    "    csv_file = csv_files[0]\n",
    "else:\n",
    "    raise FileNotFoundError(\"No CSV files found in the specified path. Please download the dataset.\")\n",
    "\n",
    "df = pd.read_csv(csv_file)"
   ]
  }
 ],
 "metadata": {
  "kernelspec": {
   "display_name": ".venv",
   "language": "python",
   "name": "python3"
  },
  "language_info": {
   "codemirror_mode": {
    "name": "ipython",
    "version": 3
   },
   "file_extension": ".py",
   "mimetype": "text/x-python",
   "name": "python",
   "nbconvert_exporter": "python",
   "pygments_lexer": "ipython3",
   "version": "3.12.1"
  }
 },
 "nbformat": 4,
 "nbformat_minor": 5
}
